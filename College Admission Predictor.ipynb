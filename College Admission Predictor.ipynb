{
 "cells": [
  {
   "cell_type": "code",
   "execution_count": 1,
   "id": "34ca4c76",
   "metadata": {},
   "outputs": [],
   "source": [
    "import pandas as pd"
   ]
  },
  {
   "cell_type": "code",
   "execution_count": 2,
   "id": "cd0dd858",
   "metadata": {},
   "outputs": [],
   "source": [
    "df = pd.read_csv('tseamcet.csv')"
   ]
  },
  {
   "cell_type": "code",
   "execution_count": 3,
   "id": "fafecb44",
   "metadata": {},
   "outputs": [
    {
     "data": {
      "text/html": [
       "<div>\n",
       "<style scoped>\n",
       "    .dataframe tbody tr th:only-of-type {\n",
       "        vertical-align: middle;\n",
       "    }\n",
       "\n",
       "    .dataframe tbody tr th {\n",
       "        vertical-align: top;\n",
       "    }\n",
       "\n",
       "    .dataframe thead th {\n",
       "        text-align: right;\n",
       "    }\n",
       "</style>\n",
       "<table border=\"1\" class=\"dataframe\">\n",
       "  <thead>\n",
       "    <tr style=\"text-align: right;\">\n",
       "      <th></th>\n",
       "      <th>class_id</th>\n",
       "      <th>rank</th>\n",
       "      <th>gender</th>\n",
       "      <th>caste</th>\n",
       "      <th>region</th>\n",
       "      <th>seat_category</th>\n",
       "      <th>branch_code</th>\n",
       "      <th>branch</th>\n",
       "      <th>college_code</th>\n",
       "      <th>college</th>\n",
       "      <th>students_per_class</th>\n",
       "      <th>fee</th>\n",
       "    </tr>\n",
       "  </thead>\n",
       "  <tbody>\n",
       "    <tr>\n",
       "      <th>0</th>\n",
       "      <td>1</td>\n",
       "      <td>71654</td>\n",
       "      <td>F</td>\n",
       "      <td>BC_B</td>\n",
       "      <td>OU</td>\n",
       "      <td>BC_D_GIRLS_UR</td>\n",
       "      <td>PHD</td>\n",
       "      <td>PHARM - D (M.P.C. STREAM)</td>\n",
       "      <td>AVHP</td>\n",
       "      <td>AVHP  -  AVANTHI INST OF PHARMSCI, HAYATHNAGAR</td>\n",
       "      <td>10</td>\n",
       "      <td>75000</td>\n",
       "    </tr>\n",
       "    <tr>\n",
       "      <th>1</th>\n",
       "      <td>1</td>\n",
       "      <td>72609</td>\n",
       "      <td>M</td>\n",
       "      <td>BC_E</td>\n",
       "      <td>OU</td>\n",
       "      <td>MUS_GEN_UR</td>\n",
       "      <td>CSE</td>\n",
       "      <td>COMPUTER SCIENCE AND ENGINEERING</td>\n",
       "      <td>AIZA</td>\n",
       "      <td>AIZA  -  AIZZA COLLEGE OF ENGG AND TECHNOLOGY,...</td>\n",
       "      <td>21</td>\n",
       "      <td>40000</td>\n",
       "    </tr>\n",
       "    <tr>\n",
       "      <th>2</th>\n",
       "      <td>2</td>\n",
       "      <td>43546</td>\n",
       "      <td>M</td>\n",
       "      <td>OC</td>\n",
       "      <td>OU</td>\n",
       "      <td>MUS_GEN_UR</td>\n",
       "      <td>CSE</td>\n",
       "      <td>COMPUTER SCIENCE AND ENGINEERING</td>\n",
       "      <td>AIZA</td>\n",
       "      <td>AIZA  -  AIZZA COLLEGE OF ENGG AND TECHNOLOGY,...</td>\n",
       "      <td>21</td>\n",
       "      <td>40000</td>\n",
       "    </tr>\n",
       "    <tr>\n",
       "      <th>3</th>\n",
       "      <td>1</td>\n",
       "      <td>38165</td>\n",
       "      <td>M</td>\n",
       "      <td>BC_B</td>\n",
       "      <td>OU</td>\n",
       "      <td>MUS_GEN_UR</td>\n",
       "      <td>MIN</td>\n",
       "      <td>MINING ENGINEERING</td>\n",
       "      <td>AIZA</td>\n",
       "      <td>AIZA  -  AIZZA COLLEGE OF ENGG AND TECHNOLOGY,...</td>\n",
       "      <td>21</td>\n",
       "      <td>40000</td>\n",
       "    </tr>\n",
       "    <tr>\n",
       "      <th>4</th>\n",
       "      <td>2</td>\n",
       "      <td>71077</td>\n",
       "      <td>M</td>\n",
       "      <td>BC_D</td>\n",
       "      <td>OU</td>\n",
       "      <td>MUS_GEN_UR</td>\n",
       "      <td>MIN</td>\n",
       "      <td>MINING ENGINEERING</td>\n",
       "      <td>AIZA</td>\n",
       "      <td>AIZA  -  AIZZA COLLEGE OF ENGG AND TECHNOLOGY,...</td>\n",
       "      <td>21</td>\n",
       "      <td>40000</td>\n",
       "    </tr>\n",
       "  </tbody>\n",
       "</table>\n",
       "</div>"
      ],
      "text/plain": [
       "   class_id   rank gender caste region  seat_category branch_code  \\\n",
       "0         1  71654      F  BC_B     OU  BC_D_GIRLS_UR         PHD   \n",
       "1         1  72609      M  BC_E     OU     MUS_GEN_UR         CSE   \n",
       "2         2  43546      M    OC     OU     MUS_GEN_UR         CSE   \n",
       "3         1  38165      M  BC_B     OU     MUS_GEN_UR         MIN   \n",
       "4         2  71077      M  BC_D     OU     MUS_GEN_UR         MIN   \n",
       "\n",
       "                             branch college_code  \\\n",
       "0         PHARM - D (M.P.C. STREAM)         AVHP   \n",
       "1  COMPUTER SCIENCE AND ENGINEERING         AIZA   \n",
       "2  COMPUTER SCIENCE AND ENGINEERING         AIZA   \n",
       "3                MINING ENGINEERING         AIZA   \n",
       "4                MINING ENGINEERING         AIZA   \n",
       "\n",
       "                                             college  students_per_class  \\\n",
       "0     AVHP  -  AVANTHI INST OF PHARMSCI, HAYATHNAGAR                  10   \n",
       "1  AIZA  -  AIZZA COLLEGE OF ENGG AND TECHNOLOGY,...                  21   \n",
       "2  AIZA  -  AIZZA COLLEGE OF ENGG AND TECHNOLOGY,...                  21   \n",
       "3  AIZA  -  AIZZA COLLEGE OF ENGG AND TECHNOLOGY,...                  21   \n",
       "4  AIZA  -  AIZZA COLLEGE OF ENGG AND TECHNOLOGY,...                  21   \n",
       "\n",
       "     fee  \n",
       "0  75000  \n",
       "1  40000  \n",
       "2  40000  \n",
       "3  40000  \n",
       "4  40000  "
      ]
     },
     "execution_count": 3,
     "metadata": {},
     "output_type": "execute_result"
    }
   ],
   "source": [
    "df.head(5)"
   ]
  },
  {
   "cell_type": "code",
   "execution_count": 4,
   "id": "66024aab",
   "metadata": {},
   "outputs": [],
   "source": [
    "from sklearn.preprocessing import LabelEncoder"
   ]
  },
  {
   "cell_type": "code",
   "execution_count": 5,
   "id": "a2246ee4",
   "metadata": {},
   "outputs": [],
   "source": [
    "le = LabelEncoder()"
   ]
  },
  {
   "cell_type": "code",
   "execution_count": 6,
   "id": "00744cf8",
   "metadata": {},
   "outputs": [],
   "source": [
    "numerical   = ['rank']\n",
    "categorical =   ['gender', 'caste', 'region']\n",
    "features = numerical + categorical\n",
    "target   =   ['college_code']"
   ]
  },
  {
   "cell_type": "code",
   "execution_count": 7,
   "id": "9889172f",
   "metadata": {},
   "outputs": [],
   "source": [
    "X = df[features]\n",
    "y = df[target]"
   ]
  },
  {
   "cell_type": "code",
   "execution_count": 8,
   "id": "4c057197",
   "metadata": {},
   "outputs": [
    {
     "name": "stderr",
     "output_type": "stream",
     "text": [
      "<ipython-input-8-df95c234403b>:4: SettingWithCopyWarning: \n",
      "A value is trying to be set on a copy of a slice from a DataFrame.\n",
      "Try using .loc[row_indexer,col_indexer] = value instead\n",
      "\n",
      "See the caveats in the documentation: https://pandas.pydata.org/pandas-docs/stable/user_guide/indexing.html#returning-a-view-versus-a-copy\n",
      "  X[feature] = le.fit_transform(X[feature])\n"
     ]
    }
   ],
   "source": [
    "feature_encoder = {}\n",
    "\n",
    "for feature in categorical:\n",
    "    X[feature] = le.fit_transform(X[feature])\n",
    "    feature_encoder[feature] = dict(zip(le.classes_,range(len(le.classes_))))"
   ]
  },
  {
   "cell_type": "code",
   "execution_count": 9,
   "id": "a2f7832f",
   "metadata": {},
   "outputs": [
    {
     "name": "stderr",
     "output_type": "stream",
     "text": [
      "<ipython-input-9-9398b2e43b55>:3: SettingWithCopyWarning: \n",
      "A value is trying to be set on a copy of a slice from a DataFrame.\n",
      "Try using .loc[row_indexer,col_indexer] = value instead\n",
      "\n",
      "See the caveats in the documentation: https://pandas.pydata.org/pandas-docs/stable/user_guide/indexing.html#returning-a-view-versus-a-copy\n",
      "  y[label] = le.fit_transform(y[label])\n"
     ]
    }
   ],
   "source": [
    "target_encoder = {}\n",
    "for label in target:\n",
    "    y[label] = le.fit_transform(y[label])\n",
    "    target_encoder[label] = dict(zip(le.classes_,range(len(le.classes_))))"
   ]
  },
  {
   "cell_type": "code",
   "execution_count": 10,
   "id": "c30b019e",
   "metadata": {},
   "outputs": [
    {
     "data": {
      "text/html": [
       "<div>\n",
       "<style scoped>\n",
       "    .dataframe tbody tr th:only-of-type {\n",
       "        vertical-align: middle;\n",
       "    }\n",
       "\n",
       "    .dataframe tbody tr th {\n",
       "        vertical-align: top;\n",
       "    }\n",
       "\n",
       "    .dataframe thead th {\n",
       "        text-align: right;\n",
       "    }\n",
       "</style>\n",
       "<table border=\"1\" class=\"dataframe\">\n",
       "  <thead>\n",
       "    <tr style=\"text-align: right;\">\n",
       "      <th></th>\n",
       "      <th>rank</th>\n",
       "      <th>gender</th>\n",
       "      <th>caste</th>\n",
       "      <th>region</th>\n",
       "    </tr>\n",
       "  </thead>\n",
       "  <tbody>\n",
       "    <tr>\n",
       "      <th>0</th>\n",
       "      <td>71654</td>\n",
       "      <td>0</td>\n",
       "      <td>1</td>\n",
       "      <td>2</td>\n",
       "    </tr>\n",
       "    <tr>\n",
       "      <th>1</th>\n",
       "      <td>72609</td>\n",
       "      <td>1</td>\n",
       "      <td>4</td>\n",
       "      <td>2</td>\n",
       "    </tr>\n",
       "    <tr>\n",
       "      <th>2</th>\n",
       "      <td>43546</td>\n",
       "      <td>1</td>\n",
       "      <td>5</td>\n",
       "      <td>2</td>\n",
       "    </tr>\n",
       "    <tr>\n",
       "      <th>3</th>\n",
       "      <td>38165</td>\n",
       "      <td>1</td>\n",
       "      <td>1</td>\n",
       "      <td>2</td>\n",
       "    </tr>\n",
       "    <tr>\n",
       "      <th>4</th>\n",
       "      <td>71077</td>\n",
       "      <td>1</td>\n",
       "      <td>3</td>\n",
       "      <td>2</td>\n",
       "    </tr>\n",
       "  </tbody>\n",
       "</table>\n",
       "</div>"
      ],
      "text/plain": [
       "    rank  gender  caste  region\n",
       "0  71654       0      1       2\n",
       "1  72609       1      4       2\n",
       "2  43546       1      5       2\n",
       "3  38165       1      1       2\n",
       "4  71077       1      3       2"
      ]
     },
     "execution_count": 10,
     "metadata": {},
     "output_type": "execute_result"
    }
   ],
   "source": [
    "X.head()"
   ]
  },
  {
   "cell_type": "code",
   "execution_count": 11,
   "id": "c0a3b274",
   "metadata": {},
   "outputs": [
    {
     "data": {
      "text/html": [
       "<div>\n",
       "<style scoped>\n",
       "    .dataframe tbody tr th:only-of-type {\n",
       "        vertical-align: middle;\n",
       "    }\n",
       "\n",
       "    .dataframe tbody tr th {\n",
       "        vertical-align: top;\n",
       "    }\n",
       "\n",
       "    .dataframe thead th {\n",
       "        text-align: right;\n",
       "    }\n",
       "</style>\n",
       "<table border=\"1\" class=\"dataframe\">\n",
       "  <thead>\n",
       "    <tr style=\"text-align: right;\">\n",
       "      <th></th>\n",
       "      <th>college_code</th>\n",
       "    </tr>\n",
       "  </thead>\n",
       "  <tbody>\n",
       "    <tr>\n",
       "      <th>0</th>\n",
       "      <td>13</td>\n",
       "    </tr>\n",
       "    <tr>\n",
       "      <th>1</th>\n",
       "      <td>3</td>\n",
       "    </tr>\n",
       "    <tr>\n",
       "      <th>2</th>\n",
       "      <td>3</td>\n",
       "    </tr>\n",
       "    <tr>\n",
       "      <th>3</th>\n",
       "      <td>3</td>\n",
       "    </tr>\n",
       "    <tr>\n",
       "      <th>4</th>\n",
       "      <td>3</td>\n",
       "    </tr>\n",
       "  </tbody>\n",
       "</table>\n",
       "</div>"
      ],
      "text/plain": [
       "   college_code\n",
       "0            13\n",
       "1             3\n",
       "2             3\n",
       "3             3\n",
       "4             3"
      ]
     },
     "execution_count": 11,
     "metadata": {},
     "output_type": "execute_result"
    }
   ],
   "source": [
    "y.head()"
   ]
  },
  {
   "cell_type": "code",
   "execution_count": 12,
   "id": "cc14f221",
   "metadata": {},
   "outputs": [
    {
     "name": "stdout",
     "output_type": "stream",
     "text": [
      "[[20000, 1, 5, 0]]\n"
     ]
    }
   ],
   "source": [
    "tests = [[20000, 'M', 'OC', 'AU']]\n",
    "testcases = []\n",
    "\n",
    "for rank, gender, caste, region in tests:\n",
    "    testcases.append([rank, feature_encoder['gender'][gender], feature_encoder['caste'][caste], feature_encoder['region'][region]])\n",
    "    \n",
    "print(testcases)"
   ]
  },
  {
   "cell_type": "code",
   "execution_count": 13,
   "id": "6b6ed783",
   "metadata": {},
   "outputs": [],
   "source": [
    "from sklearn.neighbors import NearestNeighbors\n",
    "model = NearestNeighbors(n_neighbors=10)"
   ]
  },
  {
   "cell_type": "code",
   "execution_count": 14,
   "id": "42295995",
   "metadata": {},
   "outputs": [
    {
     "data": {
      "text/plain": [
       "NearestNeighbors(n_neighbors=10)"
      ]
     },
     "execution_count": 14,
     "metadata": {},
     "output_type": "execute_result"
    }
   ],
   "source": [
    "model.fit(X, y)"
   ]
  },
  {
   "cell_type": "code",
   "execution_count": 19,
   "id": "2848cd35",
   "metadata": {},
   "outputs": [],
   "source": [
    "distance, indices = model.kneighbors(testcases)"
   ]
  },
  {
   "cell_type": "code",
   "execution_count": 20,
   "id": "1444400b",
   "metadata": {},
   "outputs": [
    {
     "data": {
      "text/plain": [
       "array([[ 4323, 15194, 20188, 15947, 38664, 22708, 31606, 47690,  8379,\n",
       "        42620]])"
      ]
     },
     "execution_count": 20,
     "metadata": {},
     "output_type": "execute_result"
    }
   ],
   "source": [
    "indices"
   ]
  },
  {
   "cell_type": "code",
   "execution_count": 21,
   "id": "df189f29",
   "metadata": {},
   "outputs": [
    {
     "name": "stdout",
     "output_type": "stream",
     "text": [
      "INF VASV  -  VASAVI COLLEGE OF ENGINEERING, HYDERABAD\n",
      "CSE MREW  -  MALLA REDDY COLLEGE OF ENGINEERING FOR WOMEN, MAISAMMAGUDA\n",
      "INF MRCW  -  MALLA REDDY ENGG COLLEGE FOR WOMEN (AUTONOMOUS), MAISAMMAGUDA\n",
      "CSE GCTC  -  GEETANJALI COLLEGE OF ENGG AND TECHNOLOGY, KEESARA\n",
      "CSE GURU  -  GURUNANAK INSTTECH CAMPUS, IBRAHIMPATAN\n",
      "ANE IARE  -  INSTITUTE OF AERONAUTICAL ENGINEERING, DUNDIGAL\n",
      "CIV SNIS  -  SREENIDHI INSTITUTE OF SCI AND TECHNOLOGY, GHATKESAR\n",
      "CSE KUWL  -  KU COLLEGE OF ENGINEERING  AND TECHNOLOGY, WARANGAL\n",
      "EEE JNKR  -  JNTU COLLEGE OF ENGINEERING  KARIMNAGAR, KARIMNAGAR\n",
      "CSE CVRH  -  CVR COLLEGE OF ENGINEERING, IBRAHIMPATAN\n"
     ]
    }
   ],
   "source": [
    "for college in df.values[indices][0]:\n",
    "    print(college[6], college[9])"
   ]
  },
  {
   "cell_type": "code",
   "execution_count": 26,
   "id": "1e110143",
   "metadata": {},
   "outputs": [],
   "source": [
    "import json"
   ]
  },
  {
   "cell_type": "code",
   "execution_count": 27,
   "id": "e8b3a4d8",
   "metadata": {},
   "outputs": [],
   "source": [
    "with open('feature_encoder.json', 'w') as f:\n",
    "    f.write(json.dumps(feature_encoder))"
   ]
  },
  {
   "cell_type": "code",
   "execution_count": 29,
   "id": "f23b8cb3",
   "metadata": {},
   "outputs": [],
   "source": [
    "with open('target_encoder.json', 'w') as f:\n",
    "    f.write(json.dumps(target_encoder))"
   ]
  },
  {
   "cell_type": "code",
   "execution_count": 24,
   "id": "cf7d44d9",
   "metadata": {},
   "outputs": [],
   "source": [
    "import pickle"
   ]
  },
  {
   "cell_type": "code",
   "execution_count": 25,
   "id": "a2263e39",
   "metadata": {},
   "outputs": [],
   "source": [
    "filename = 'eamcet_model.sav'\n",
    "pickle.dump(model, open(filename, 'wb'))"
   ]
  }
 ],
 "metadata": {
  "kernelspec": {
   "display_name": "Python 3",
   "language": "python",
   "name": "python3"
  },
  "language_info": {
   "codemirror_mode": {
    "name": "ipython",
    "version": 3
   },
   "file_extension": ".py",
   "mimetype": "text/x-python",
   "name": "python",
   "nbconvert_exporter": "python",
   "pygments_lexer": "ipython3",
   "version": "3.8.10"
  }
 },
 "nbformat": 4,
 "nbformat_minor": 5
}
